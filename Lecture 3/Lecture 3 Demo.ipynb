{
 "cells": [
  {
   "cell_type": "code",
   "execution_count": 12,
   "id": "75a1ec9e",
   "metadata": {},
   "outputs": [
    {
     "name": "stdout",
     "output_type": "stream",
     "text": [
      "32\n",
      "62\n"
     ]
    }
   ],
   "source": [
    "def denji(x):\n",
    "    return x*3+2\n",
    "\n",
    "a = denji(10)\n",
    "b = denji(20)\n",
    "print(a)\n",
    "print(b)"
   ]
  },
  {
   "cell_type": "code",
   "execution_count": 13,
   "id": "c08bc6b0",
   "metadata": {},
   "outputs": [
    {
     "name": "stdout",
     "output_type": "stream",
     "text": [
      "32\n",
      "62\n",
      "None\n",
      "None\n"
     ]
    }
   ],
   "source": [
    "def linus(x):\n",
    "    print (x*3+2)\n",
    "    \n",
    "a = linus(10)\n",
    "b = linus(20)\n",
    "\n",
    "print(a)\n",
    "print(b)"
   ]
  },
  {
   "cell_type": "code",
   "execution_count": 14,
   "id": "ba031f40",
   "metadata": {},
   "outputs": [
    {
     "name": "stdout",
     "output_type": "stream",
     "text": [
      "6\n",
      "15\n"
     ]
    }
   ],
   "source": [
    "def get_harmonic(freq, harmonic=2):\n",
    "    return freq*harmonic\n",
    "\n",
    "a = get_harmonic(3)\n",
    "b = get_harmonic(3, 5)\n",
    "print(a)\n",
    "print(b)"
   ]
  },
  {
   "cell_type": "code",
   "execution_count": 15,
   "id": "e2246337",
   "metadata": {},
   "outputs": [
    {
     "data": {
      "text/plain": [
       "32"
      ]
     },
     "execution_count": 15,
     "metadata": {},
     "output_type": "execute_result"
    }
   ],
   "source": [
    "function1 = lambda x: x*3+2\n",
    "function1(10)"
   ]
  },
  {
   "cell_type": "code",
   "execution_count": 16,
   "id": "7a03d9b0",
   "metadata": {},
   "outputs": [
    {
     "name": "stdout",
     "output_type": "stream",
     "text": [
      "<function get_harmonic at 0x7ff7a16dddc0>\n",
      "<function <lambda> at 0x7ff7a16ddc10>\n"
     ]
    }
   ],
   "source": [
    "print(get_harmonic)\n",
    "print(function1)"
   ]
  },
  {
   "cell_type": "code",
   "execution_count": 17,
   "id": "e33d1dda",
   "metadata": {},
   "outputs": [
    {
     "data": {
      "text/plain": [
       "1633"
      ]
     },
     "execution_count": 17,
     "metadata": {},
     "output_type": "execute_result"
    }
   ],
   "source": [
    "function2 = lambda some_function, x: some_function(x)+1601\n",
    "function2(function1, 10)"
   ]
  },
  {
   "cell_type": "code",
   "execution_count": 18,
   "id": "d5168988",
   "metadata": {},
   "outputs": [
    {
     "data": {
      "text/plain": [
       "3"
      ]
     },
     "execution_count": 18,
     "metadata": {},
     "output_type": "execute_result"
    }
   ],
   "source": [
    "def function3(x, y):\n",
    "    if x>y:\n",
    "        return x\n",
    "    if y>x:\n",
    "        return y\n",
    "    else:\n",
    "        return ('Both are the same')\n",
    "function3(3,2)\n"
   ]
  },
  {
   "cell_type": "code",
   "execution_count": 19,
   "id": "8d8c906f",
   "metadata": {},
   "outputs": [
    {
     "name": "stdout",
     "output_type": "stream",
     "text": [
      "Hello\n",
      "Hello\n",
      "Hello\n"
     ]
    }
   ],
   "source": [
    "count = 0\n",
    "while (count<3):\n",
    "    count = count+1\n",
    "    print(\"Hello\")"
   ]
  },
  {
   "cell_type": "code",
   "execution_count": 20,
   "id": "ede60aba",
   "metadata": {},
   "outputs": [
    {
     "name": "stdout",
     "output_type": "stream",
     "text": [
      "0\n",
      "1\n",
      "2\n",
      "3\n"
     ]
    }
   ],
   "source": [
    "n=4\n",
    "for i in range(0, n):\n",
    "    print(i)"
   ]
  },
  {
   "cell_type": "code",
   "execution_count": 21,
   "id": "c05e8492",
   "metadata": {},
   "outputs": [
    {
     "name": "stdout",
     "output_type": "stream",
     "text": [
      "0\n",
      "1\n",
      "2\n",
      "3\n"
     ]
    }
   ],
   "source": [
    "n=4\n",
    "for i in range(n):\n",
    "    print(i)"
   ]
  },
  {
   "cell_type": "code",
   "execution_count": 26,
   "id": "1e27880d",
   "metadata": {},
   "outputs": [
    {
     "name": "stdout",
     "output_type": "stream",
     "text": [
      "<function <lambda> at 0x7ff7a16ddca0>\n",
      "<function denji at 0x7ff7a16ddaf0>\n",
      "Hello\n",
      "Coffee\n",
      "[10, 16, 16, 1] None None\n",
      "None None None\n"
     ]
    }
   ],
   "source": [
    "def denji(x, y=16):\n",
    "    sum = [x, y]\n",
    "    return sum\n",
    "\n",
    "\n",
    "print(print(lambda x: x*x), print(denji), print(denji(10) + denji(16, 1), print (\"Hello\"), print(\"Coffee\")))"
   ]
  },
  {
   "cell_type": "code",
   "execution_count": null,
   "id": "299b3643",
   "metadata": {},
   "outputs": [],
   "source": []
  }
 ],
 "metadata": {
  "kernelspec": {
   "display_name": "Python 3",
   "language": "python",
   "name": "python3"
  },
  "language_info": {
   "codemirror_mode": {
    "name": "ipython",
    "version": 3
   },
   "file_extension": ".py",
   "mimetype": "text/x-python",
   "name": "python",
   "nbconvert_exporter": "python",
   "pygments_lexer": "ipython3",
   "version": "3.8.8"
  }
 },
 "nbformat": 4,
 "nbformat_minor": 5
}
