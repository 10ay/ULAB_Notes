{
 "cells": [
  {
   "cell_type": "code",
   "execution_count": 8,
   "id": "75a1ec9e",
   "metadata": {},
   "outputs": [],
   "source": [
    "def foo(x):\n",
    "    return x*3+2\n",
    "\n",
    "a = foo(10)\n",
    "b = foo(20)\n",
    "print(a)\n",
    "print(b)"
   ]
  },
  {
   "cell_type": "code",
   "execution_count": 7,
   "id": "c08bc6b0",
   "metadata": {},
   "outputs": [
    {
     "name": "stdout",
     "output_type": "stream",
     "text": [
      "32\n",
      "62\n",
      "None\n",
      "None\n"
     ]
    }
   ],
   "source": [
    "def foo2(x):\n",
    "    print (x*3+2)\n",
    "    \n",
    "a = foo2(10)\n",
    "b = foo2(20)\n",
    "\n",
    "print(a)\n",
    "print(b)"
   ]
  },
  {
   "cell_type": "code",
   "execution_count": null,
   "id": "59d760af",
   "metadata": {},
   "outputs": [],
   "source": [
    "def foo3()"
   ]
  },
  {
   "cell_type": "code",
   "execution_count": 11,
   "id": "e2246337",
   "metadata": {},
   "outputs": [
    {
     "data": {
      "text/plain": [
       "32"
      ]
     },
     "execution_count": 11,
     "metadata": {},
     "output_type": "execute_result"
    }
   ],
   "source": [
    "function1 = lambda x: x*3+2\n",
    "function1(10)"
   ]
  },
  {
   "cell_type": "code",
   "execution_count": 13,
   "id": "e33d1dda",
   "metadata": {},
   "outputs": [
    {
     "data": {
      "text/plain": [
       "1633"
      ]
     },
     "execution_count": 13,
     "metadata": {},
     "output_type": "execute_result"
    }
   ],
   "source": [
    "function2 = lambda some_function, x: some_function(x)+1601\n",
    "function2(function1, 10)"
   ]
  },
  {
   "cell_type": "code",
   "execution_count": 15,
   "id": "d5168988",
   "metadata": {},
   "outputs": [
    {
     "data": {
      "text/plain": [
       "4"
      ]
     },
     "execution_count": 15,
     "metadata": {},
     "output_type": "execute_result"
    }
   ],
   "source": [
    "def function3(x, y):\n",
    "    if x>y:\n",
    "        return x\n",
    "    if y>x:\n",
    "        return y\n",
    "    else:\n",
    "        return ('Both are the same')\n",
    "function3(3,2)\n"
   ]
  },
  {
   "cell_type": "code",
   "execution_count": 16,
   "id": "8d8c906f",
   "metadata": {},
   "outputs": [
    {
     "name": "stdout",
     "output_type": "stream",
     "text": [
      "Hello\n",
      "Hello\n",
      "Hello\n"
     ]
    }
   ],
   "source": [
    "count = 0\n",
    "while (count<3):\n",
    "    count = count+1\n",
    "    print(\"Hello\")"
   ]
  },
  {
   "cell_type": "code",
   "execution_count": 17,
   "id": "ede60aba",
   "metadata": {},
   "outputs": [
    {
     "name": "stdout",
     "output_type": "stream",
     "text": [
      "0\n",
      "1\n",
      "2\n",
      "3\n"
     ]
    }
   ],
   "source": [
    "n=4\n",
    "for i in range(0, n):\n",
    "    print(i)"
   ]
  },
  {
   "cell_type": "code",
   "execution_count": 18,
   "id": "c05e8492",
   "metadata": {},
   "outputs": [
    {
     "name": "stdout",
     "output_type": "stream",
     "text": [
      "0\n",
      "1\n",
      "2\n",
      "3\n"
     ]
    }
   ],
   "source": [
    "n=4\n",
    "for i in range(n):\n",
    "    print(i)"
   ]
  },
  {
   "cell_type": "code",
   "execution_count": null,
   "id": "1e27880d",
   "metadata": {},
   "outputs": [],
   "source": []
  }
 ],
 "metadata": {
  "kernelspec": {
   "display_name": "Python 3",
   "language": "python",
   "name": "python3"
  },
  "language_info": {
   "codemirror_mode": {
    "name": "ipython",
    "version": 3
   },
   "file_extension": ".py",
   "mimetype": "text/x-python",
   "name": "python",
   "nbconvert_exporter": "python",
   "pygments_lexer": "ipython3",
   "version": "3.8.8"
  }
 },
 "nbformat": 4,
 "nbformat_minor": 5
}
